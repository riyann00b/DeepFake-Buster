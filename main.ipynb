{
 "cells": [
  {
   "cell_type": "code",
   "execution_count": null,
   "metadata": {},
   "outputs": [],
   "source": [
    "!pip install streamlit"
   ]
  },
  {
   "cell_type": "code",
   "execution_count": 35,
   "metadata": {},
   "outputs": [],
   "source": [
    "import streamlit as st\n",
    "import cv2\n",
    "import numpy as np\n",
    "from tempfile import NamedTemporaryFile\n",
    "from tensorflow.lite.python.interpreter import Interpreter\n",
    "from PIL import Image\n",
    "from datetime import datetime\n",
    "import os\n"
   ]
  },
  {
   "cell_type": "code",
   "execution_count": null,
   "metadata": {},
   "outputs": [],
   "source": [
    "# Load the TFLite model\n",
    "interpreter = Interpreter(model_path=\"deepfake_detection_model.tflite\")\n",
    "interpreter.allocate_tensors()\n",
    "input_details = interpreter.get_input_details()\n",
    "output_details = interpreter.get_output_details()\n",
    "timestamp = datetime.now().strftime(\"%Y-%m-%d %H:%M:%S\")\n"
   ]
  },
  {
   "cell_type": "code",
   "execution_count": null,
   "metadata": {},
   "outputs": [],
   "source": [
    "# Function to preprocess video frames\n",
    "def preprocess_frames(frames):\n",
    "    preprocessed_frames = []\n",
    "    for frame in frames:\n",
    "        frame = cv2.resize(frame, (224, 224))\n",
    "        frame = cv2.cvtColor(frame, cv2.COLOR_BGR2RGB)\n",
    "        preprocessed_frames.append(frame)\n",
    "    return np.array(preprocessed_frames)\n"
   ]
  },
  {
   "cell_type": "code",
   "execution_count": null,
   "metadata": {},
   "outputs": [],
   "source": [
    "\n",
    "# Function to extract frames from video\n",
    "def extract_frames(video_bytes, num_frames=10):\n",
    "    frames = []\n",
    "    with NamedTemporaryFile(delete=False, suffix='.mp4') as tmp_file:\n",
    "        tmp_file.write(video_bytes)\n",
    "        tmp_file_path = tmp_file.name\n",
    "    \n",
    "    cap = cv2.VideoCapture(tmp_file_path)\n",
    "    while len(frames) < num_frames:\n",
    "        ret, frame = cap.read()\n",
    "        if not ret:\n",
    "            break\n",
    "        frames.append(frame)\n",
    "    cap.release()\n",
    "    \n",
    "    # Delete temporary file\n",
    "    os.unlink(tmp_file_path)\n",
    "    \n",
    "    return frames\n"
   ]
  },
  {
   "cell_type": "code",
   "execution_count": null,
   "metadata": {},
   "outputs": [],
   "source": [
    "# Function to predict if the video is real or deepfake\n",
    "def predict_video(uploaded_file, status_log):\n",
    "    video_bytes = uploaded_file.read()  # Read byte data from file object\n",
    "    frames = extract_frames(video_bytes, num_frames=10)\n",
    "    preprocessed_frames = preprocess_frames(frames)\n",
    "    preprocessed_frames = preprocessed_frames.reshape((1, 10, 224, 224, 3))\n"
   ]
  },
  {
   "cell_type": "code",
   "execution_count": null,
   "metadata": {},
   "outputs": [],
   "source": [
    " # Run inference\n",
    "    interpreter.set_tensor(input_details[0]['index'], preprocessed_frames.astype('float32'))\n",
    "    interpreter.invoke()\n",
    "    prediction = interpreter.get_tensor(output_details[0]['index'])\n",
    "\n",
    "    accuracy = prediction[0][0] if prediction[0][0] > 0.5 else 1 - prediction[0][0]\n",
    "    result = \"Deepfake\" if prediction[0][0] > 0.5 else \"Real\"\n",
    "\n",
    "    status_log.text(f\"[{timestamp}] - The video is {result} with {accuracy * 100:.2f}% accuracy.\\n\")\n",
    "\n",
    "    return result, accuracy\n"
   ]
  },
  {
   "cell_type": "code",
   "execution_count": null,
   "metadata": {},
   "outputs": [],
   "source": [
    "\n",
    "def main():\n",
    "    st.title(\"Deepfake Detection App\")\n",
    "\n",
    "    # Section 1: Title and Navigation Bar\n",
    "    st.sidebar.title(\"Navigation\")\n",
    "    page = st.sidebar.radio(\"Go to:\", (\"Home\", \"About\"))\n",
    "\n",
    "    # Section 2: Video and Model Detection\n",
    "    if page == \"Home\":\n",
    "        st.header(\"Video Player and Model Detection\")\n",
    "        uploaded_file = st.file_uploader(\"Upload a video file:\", type=[\"mp4\"])\n",
    "\n",
    "        # Logs Section\n",
    "        st.header(\"Logs:\")\n",
    "        status_log = st.empty()\n",
    "\n",
    "        if uploaded_file is not None:\n",
    "            status_log.text(f\"[{timestamp}] - Video uploaded successfully.\\n\")\n",
    "            st.video(uploaded_file)\n",
    "\n",
    "            if st.button(\"Detect\"):\n",
    "                status_log.text(f\"[{timestamp}] - Detecting video...\\n\")\n",
    "                result, accuracy = predict_video(uploaded_file, status_log)\n",
    "                \n",
    "                # Table displaying model name, live accuracy, and status\n",
    "                st.subheader(\"Model Detection Status\")\n",
    "                data = {\"Model Name\": [\"Resnet+LSTM\"], \"Accuracy\": [f\"{accuracy * 100:.2f}%\"], \"Status\": [result]}\n",
    "                st.table(data)\n",
    "    # Section 3: Log Section\n",
    "    elif page == \"About\":\n",
    "        st.header(\"Log Section\")\n",
    "        st.write(\"System logs will be displayed here.\")\n",
    "\n",
    "if __name__ == \"__main__\":\n",
    "    main()"
   ]
  },
  {
   "cell_type": "code",
   "execution_count": null,
   "metadata": {},
   "outputs": [],
   "source": []
  },
  {
   "cell_type": "code",
   "execution_count": null,
   "metadata": {},
   "outputs": [],
   "source": []
  }
 ],
 "metadata": {
  "kernelspec": {
   "display_name": "Python 3 (ipykernel)",
   "language": "python",
   "name": "python3"
  },
  "language_info": {
   "codemirror_mode": {
    "name": "ipython",
    "version": 3
   },
   "file_extension": ".py",
   "mimetype": "text/x-python",
   "name": "python",
   "nbconvert_exporter": "python",
   "pygments_lexer": "ipython3",
   "version": "3.9.18"
  }
 },
 "nbformat": 4,
 "nbformat_minor": 2
}
